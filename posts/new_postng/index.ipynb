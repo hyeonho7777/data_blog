{
  "cells": [
    {
      "cell_type": "raw",
      "metadata": {},
      "source": [
        "---\n",
        "title: \"New posting test\"\n",
        "author: \"Hyenho Jeong\"\n",
        "date: \"2023-03-14\"\n",
        "categories: [news, code, analysis]\n",
        "image: \"image.jpg\"\n",
        "---"
      ],
      "id": "8bd6f0ae"
    },
    {
      "cell_type": "markdown",
      "metadata": {},
      "source": [
        "안녕하세요 반갑습니다.\n"
      ],
      "id": "ef34c1c3"
    },
    {
      "cell_type": "code",
      "metadata": {},
      "source": [
        "%matplotlib inline\n",
        "import matplotlib.pyplot as plt\n",
        "import numpy as np\n",
        "\n",
        "# 데이터 생성\n",
        "x = np.random.rand(50)\n",
        "y = np.random.rand(50)\n",
        "colors = np.random.rand(50)\n",
        "area = (30 * np.random.rand(50))**2  # 마커의 크기\n",
        "\n",
        "# 산점도 그리기\n",
        "plt.scatter(x, y, s=area, c=colors, alpha=0.5)\n",
        "plt.show()"
      ],
      "id": "73b505dd",
      "execution_count": null,
      "outputs": []
    }
  ],
  "metadata": {
    "kernelspec": {
      "name": "python3",
      "language": "python",
      "display_name": "Python 3 (ipykernel)"
    }
  },
  "nbformat": 4,
  "nbformat_minor": 5
}